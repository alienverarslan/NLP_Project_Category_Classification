{
 "cells": [
  {
   "cell_type": "code",
   "execution_count": 1,
   "metadata": {
    "ExecuteTime": {
     "end_time": "2021-11-05T12:03:11.813271Z",
     "start_time": "2021-11-05T12:03:02.691987Z"
    }
   },
   "outputs": [
    {
     "name": "stderr",
     "output_type": "stream",
     "text": [
      "[nltk_data] Downloading package punkt to\n",
      "[nltk_data]     C:\\Users\\ali.arslan\\AppData\\Roaming\\nltk_data...\n",
      "[nltk_data]   Package punkt is already up-to-date!\n",
      "[nltk_data] Downloading package averaged_perceptron_tagger to\n",
      "[nltk_data]     C:\\Users\\ali.arslan\\AppData\\Roaming\\nltk_data...\n",
      "[nltk_data]   Package averaged_perceptron_tagger is already up-to-\n",
      "[nltk_data]       date!\n",
      "[nltk_data] Downloading package wordnet to\n",
      "[nltk_data]     C:\\Users\\ali.arslan\\AppData\\Roaming\\nltk_data...\n",
      "[nltk_data]   Package wordnet is already up-to-date!\n",
      "[nltk_data] Downloading package omw to\n",
      "[nltk_data]     C:\\Users\\ali.arslan\\AppData\\Roaming\\nltk_data...\n",
      "[nltk_data]   Package omw is already up-to-date!\n",
      "[nltk_data] Downloading package stopwords to\n",
      "[nltk_data]     C:\\Users\\ali.arslan\\AppData\\Roaming\\nltk_data...\n",
      "[nltk_data]   Package stopwords is already up-to-date!\n"
     ]
    },
    {
     "data": {
      "text/plain": [
       "True"
      ]
     },
     "execution_count": 1,
     "metadata": {},
     "output_type": "execute_result"
    }
   ],
   "source": [
    "import warnings\n",
    "warnings.filterwarnings(\"ignore\")\n",
    "\n",
    "import time \n",
    "import itertools\n",
    "\n",
    "from IPython.display import clear_output\n",
    "\n",
    "import gc\n",
    "import re\n",
    "import json\n",
    "import numpy as np\n",
    "import pandas as pd\n",
    "import seaborn as sns\n",
    "from bs4 import BeautifulSoup\n",
    "import matplotlib.pyplot as plt\n",
    "\n",
    "from typing import List\n",
    "from snowballstemmer import TurkishStemmer\n",
    "from jpype import JClass, JString, getDefaultJVMPath, shutdownJVM, startJVM, java\n",
    "\n",
    "from sklearn.svm import SVC\n",
    "from sklearn import pipeline as pip\n",
    "from sklearn.metrics import make_scorer\n",
    "from sklearn.feature_extraction import text as txt\n",
    "from sklearn.model_selection import train_test_split\n",
    "from sklearn.preprocessing import FunctionTransformer\n",
    "from sklearn.linear_model import LogisticRegression\n",
    "from sklearn.naive_bayes import ComplementNB, GaussianNB\n",
    "from sklearn.model_selection import GridSearchCV, RandomizedSearchCV\n",
    "from sklearn.naive_bayes import GaussianNB, BernoulliNB, MultinomialNB\n",
    "from sklearn.metrics import confusion_matrix, f1_score, accuracy_score\n",
    "from sklearn.ensemble import RandomForestClassifier, ExtraTreesClassifier\n",
    "\n",
    "from keras.callbacks import Callback, EarlyStopping, ModelCheckpoint\n",
    "\n",
    "from lightgbm import LGBMClassifier\n",
    "from xgboost import XGBClassifier, XGBRFClassifier \n",
    "\n",
    "from nltk import pos_tag\n",
    "from nltk.corpus import wordnet\n",
    "from nltk.corpus import stopwords\n",
    "from nltk.tokenize.casual import casual_tokenize\n",
    "from nltk.stem import WordNetLemmatizer, SnowballStemmer, PorterStemmer\n",
    "from nltk.tokenize import word_tokenize, wordpunct_tokenize, MWETokenizer, regexp_tokenize, WhitespaceTokenizer, NLTKWordTokenizer\n",
    "\n",
    "from gensim.models import Word2Vec, word2vec, KeyedVectors\n",
    "import nltk\n",
    "nltk.download('punkt')\n",
    "nltk.download('averaged_perceptron_tagger')\n",
    "nltk.download('wordnet')\n",
    "nltk.download('omw')\n",
    "nltk.download('stopwords')"
   ]
  },
  {
   "cell_type": "code",
   "execution_count": 2,
   "metadata": {
    "ExecuteTime": {
     "end_time": "2021-11-05T12:03:16.190848Z",
     "start_time": "2021-11-05T12:03:15.136935Z"
    }
   },
   "outputs": [],
   "source": [
    "ZEMBEREK_PATH = r'C:\\Users\\ali.arslan\\Desktop\\zemberek-tum-2.0.jar'\n",
    "startJVM(getDefaultJVMPath(), '-ea', '-Djava.class.path=%s' % (ZEMBEREK_PATH))\n",
    "\n",
    "\n",
    "# Türkiye Türkçesine göre çözümlemek için gerekli sınıfı hazırla\n",
    "Tr = JClass(\"net.zemberek.tr.yapi.TurkiyeTurkcesi\")\n",
    "# tr nesnesini oluştur\n",
    "tr = Tr()\n",
    "# Zemberek sınıfını yükle\n",
    "Zemberek2 = JClass(\"net.zemberek.erisim.Zemberek\")\n",
    "# zemberek nesnesini oluştur\n",
    "zemberek2 = Zemberek2(tr)"
   ]
  },
  {
   "cell_type": "code",
   "execution_count": 3,
   "metadata": {
    "ExecuteTime": {
     "end_time": "2021-11-05T12:03:24.187632Z",
     "start_time": "2021-11-05T12:03:18.923545Z"
    }
   },
   "outputs": [
    {
     "data": {
      "text/html": [
       "<div>\n",
       "<style scoped>\n",
       "    .dataframe tbody tr th:only-of-type {\n",
       "        vertical-align: middle;\n",
       "    }\n",
       "\n",
       "    .dataframe tbody tr th {\n",
       "        vertical-align: top;\n",
       "    }\n",
       "\n",
       "    .dataframe thead th {\n",
       "        text-align: right;\n",
       "    }\n",
       "</style>\n",
       "<table border=\"1\" class=\"dataframe\">\n",
       "  <thead>\n",
       "    <tr style=\"text-align: right;\">\n",
       "      <th></th>\n",
       "      <th>ID</th>\n",
       "      <th>TITLE</th>\n",
       "      <th>DESCRIPTION</th>\n",
       "      <th>CATEGORY_ID</th>\n",
       "    </tr>\n",
       "  </thead>\n",
       "  <tbody>\n",
       "    <tr>\n",
       "      <th>0</th>\n",
       "      <td>46715</td>\n",
       "      <td>Sonia SN-X60 Kulak Üstü Oyuncu Kulaklık</td>\n",
       "      <td>&lt;style&gt;\\n    .uni-content {\\n        font-fami...</td>\n",
       "      <td>1000365</td>\n",
       "    </tr>\n",
       "    <tr>\n",
       "      <th>1</th>\n",
       "      <td>77151</td>\n",
       "      <td>ABC Power Sıvı Bulaşık Deterjanı 1370 G</td>\n",
       "      <td>&lt;style&gt;\\n    .uni-content {\\n        font-fami...</td>\n",
       "      <td>1001377</td>\n",
       "    </tr>\n",
       "    <tr>\n",
       "      <th>2</th>\n",
       "      <td>91464</td>\n",
       "      <td>Einhell TE-CD 18/2 Li 18V 2.5 Ah Li-ion Akülü ...</td>\n",
       "      <td>&lt;style&gt;\\n    .uni-content {\\n        font-fami...</td>\n",
       "      <td>1001527</td>\n",
       "    </tr>\n",
       "    <tr>\n",
       "      <th>3</th>\n",
       "      <td>53057</td>\n",
       "      <td>Arzum AR4095 Olimpia Smart Cyclone 899 W Filtr...</td>\n",
       "      <td>&lt;meta name=\"viewport\" content=\"width=device-wi...</td>\n",
       "      <td>1000420</td>\n",
       "    </tr>\n",
       "    <tr>\n",
       "      <th>4</th>\n",
       "      <td>73951</td>\n",
       "      <td>Pedigree Biftekli ve Kümes Hayvanlı Yetişkin K...</td>\n",
       "      <td>&lt;style&gt;\\n    .uni-content {\\n        font-fami...</td>\n",
       "      <td>1000958</td>\n",
       "    </tr>\n",
       "  </tbody>\n",
       "</table>\n",
       "</div>"
      ],
      "text/plain": [
       "      ID                                              TITLE  \\\n",
       "0  46715            Sonia SN-X60 Kulak Üstü Oyuncu Kulaklık   \n",
       "1  77151            ABC Power Sıvı Bulaşık Deterjanı 1370 G   \n",
       "2  91464  Einhell TE-CD 18/2 Li 18V 2.5 Ah Li-ion Akülü ...   \n",
       "3  53057  Arzum AR4095 Olimpia Smart Cyclone 899 W Filtr...   \n",
       "4  73951  Pedigree Biftekli ve Kümes Hayvanlı Yetişkin K...   \n",
       "\n",
       "                                         DESCRIPTION  CATEGORY_ID  \n",
       "0  <style>\\n    .uni-content {\\n        font-fami...      1000365  \n",
       "1  <style>\\n    .uni-content {\\n        font-fami...      1001377  \n",
       "2  <style>\\n    .uni-content {\\n        font-fami...      1001527  \n",
       "3  <meta name=\"viewport\" content=\"width=device-wi...      1000420  \n",
       "4  <style>\\n    .uni-content {\\n        font-fami...      1000958  "
      ]
     },
     "execution_count": 3,
     "metadata": {},
     "output_type": "execute_result"
    }
   ],
   "source": [
    "df_train = pd.read_csv('train_n11.csv', sep='|')\n",
    "df_test = pd.read_csv('test_n11.csv', sep='|')\n",
    "df_train.head()"
   ]
  },
  {
   "cell_type": "code",
   "execution_count": 4,
   "metadata": {
    "ExecuteTime": {
     "end_time": "2021-11-05T12:03:24.234663Z",
     "start_time": "2021-11-05T12:03:24.223603Z"
    }
   },
   "outputs": [],
   "source": [
    "def clean_text(text):\n",
    "    text = BeautifulSoup(text, \"lxml\").text\n",
    "    text = text.replace('\\n', ' ')\n",
    "    text = re.sub(' +', ' ', text)\n",
    "    text = text.strip()\n",
    "    return text"
   ]
  },
  {
   "cell_type": "code",
   "execution_count": 5,
   "metadata": {
    "ExecuteTime": {
     "end_time": "2021-11-05T12:06:30.906800Z",
     "start_time": "2021-11-05T12:03:26.103623Z"
    }
   },
   "outputs": [],
   "source": [
    "df_train[\"CATEGORY_ID\"] = df_train[\"CATEGORY_ID\"].apply(lambda x: \"category_\" + str(x))\n",
    "\n",
    "df_train[\"cleaned_description\"] = df_train[\"DESCRIPTION\"].apply(clean_text)\n",
    "df_test[\"cleaned_description\"] = df_test[\"DESCRIPTION\"].apply(clean_text)\n",
    "\n",
    "df_train[\"cleaned_title\"] = df_train[\"TITLE\"].apply(clean_text)\n",
    "df_test[\"cleaned_title\"] = df_test[\"TITLE\"].apply(clean_text)\n",
    "    \n",
    "df_train[\"full_text\"] = df_train[\"cleaned_title\"] + '. ' + df_train[\"cleaned_description\"]\n",
    "df_test[\"full_text\"] = df_test[\"cleaned_title\"] + '. ' + df_test[\"cleaned_description\"]"
   ]
  },
  {
   "cell_type": "code",
   "execution_count": 6,
   "metadata": {
    "ExecuteTime": {
     "end_time": "2021-11-04T20:02:49.883849Z",
     "start_time": "2021-11-04T20:02:49.855851Z"
    },
    "scrolled": true
   },
   "outputs": [
    {
     "data": {
      "text/html": [
       "<div>\n",
       "<style scoped>\n",
       "    .dataframe tbody tr th:only-of-type {\n",
       "        vertical-align: middle;\n",
       "    }\n",
       "\n",
       "    .dataframe tbody tr th {\n",
       "        vertical-align: top;\n",
       "    }\n",
       "\n",
       "    .dataframe thead th {\n",
       "        text-align: right;\n",
       "    }\n",
       "</style>\n",
       "<table border=\"1\" class=\"dataframe\">\n",
       "  <thead>\n",
       "    <tr style=\"text-align: right;\">\n",
       "      <th></th>\n",
       "      <th>ID</th>\n",
       "      <th>TITLE</th>\n",
       "      <th>DESCRIPTION</th>\n",
       "      <th>CATEGORY_ID</th>\n",
       "      <th>cleaned_description</th>\n",
       "      <th>cleaned_title</th>\n",
       "      <th>full_text</th>\n",
       "    </tr>\n",
       "  </thead>\n",
       "  <tbody>\n",
       "    <tr>\n",
       "      <th>0</th>\n",
       "      <td>46715</td>\n",
       "      <td>Sonia SN-X60 Kulak Üstü Oyuncu Kulaklık</td>\n",
       "      <td>&lt;style&gt;\\n    .uni-content {\\n        font-fami...</td>\n",
       "      <td>category_1000365</td>\n",
       "      <td>Ürün Detayları Sonia SN-X60 Kulak Üstü Oyuncu ...</td>\n",
       "      <td>Sonia SN-X60 Kulak Üstü Oyuncu Kulaklık</td>\n",
       "      <td>Sonia SN-X60 Kulak Üstü Oyuncu Kulaklık. Ürün ...</td>\n",
       "    </tr>\n",
       "    <tr>\n",
       "      <th>1</th>\n",
       "      <td>77151</td>\n",
       "      <td>ABC Power Sıvı Bulaşık Deterjanı 1370 G</td>\n",
       "      <td>&lt;style&gt;\\n    .uni-content {\\n        font-fami...</td>\n",
       "      <td>category_1001377</td>\n",
       "      <td>Ürün Detayları ABC Power Sıvı Bulaşık Deterjan...</td>\n",
       "      <td>ABC Power Sıvı Bulaşık Deterjanı 1370 G</td>\n",
       "      <td>ABC Power Sıvı Bulaşık Deterjanı 1370 G. Ürün ...</td>\n",
       "    </tr>\n",
       "    <tr>\n",
       "      <th>2</th>\n",
       "      <td>91464</td>\n",
       "      <td>Einhell TE-CD 18/2 Li 18V 2.5 Ah Li-ion Akülü ...</td>\n",
       "      <td>&lt;style&gt;\\n    .uni-content {\\n        font-fami...</td>\n",
       "      <td>category_1001527</td>\n",
       "      <td>Ürün Detayları Einhell TE-CD 18/2 Li 18V 2.5 A...</td>\n",
       "      <td>Einhell TE-CD 18/2 Li 18V 2.5 Ah Li-ion Akülü ...</td>\n",
       "      <td>Einhell TE-CD 18/2 Li 18V 2.5 Ah Li-ion Akülü ...</td>\n",
       "    </tr>\n",
       "    <tr>\n",
       "      <th>3</th>\n",
       "      <td>53057</td>\n",
       "      <td>Arzum AR4095 Olimpia Smart Cyclone 899 W Filtr...</td>\n",
       "      <td>&lt;meta name=\"viewport\" content=\"width=device-wi...</td>\n",
       "      <td>category_1000420</td>\n",
       "      <td>Ürün Detayları Arzum AR4095 Olimpia Smart Cycl...</td>\n",
       "      <td>Arzum AR4095 Olimpia Smart Cyclone 899 W Filtr...</td>\n",
       "      <td>Arzum AR4095 Olimpia Smart Cyclone 899 W Filtr...</td>\n",
       "    </tr>\n",
       "    <tr>\n",
       "      <th>4</th>\n",
       "      <td>73951</td>\n",
       "      <td>Pedigree Biftekli ve Kümes Hayvanlı Yetişkin K...</td>\n",
       "      <td>&lt;style&gt;\\n    .uni-content {\\n        font-fami...</td>\n",
       "      <td>category_1000958</td>\n",
       "      <td>Ürün Detayları Pedigree Biftekli ve Kümes Hayv...</td>\n",
       "      <td>Pedigree Biftekli ve Kümes Hayvanlı Yetişkin K...</td>\n",
       "      <td>Pedigree Biftekli ve Kümes Hayvanlı Yetişkin K...</td>\n",
       "    </tr>\n",
       "  </tbody>\n",
       "</table>\n",
       "</div>"
      ],
      "text/plain": [
       "      ID                                              TITLE  \\\n",
       "0  46715            Sonia SN-X60 Kulak Üstü Oyuncu Kulaklık   \n",
       "1  77151            ABC Power Sıvı Bulaşık Deterjanı 1370 G   \n",
       "2  91464  Einhell TE-CD 18/2 Li 18V 2.5 Ah Li-ion Akülü ...   \n",
       "3  53057  Arzum AR4095 Olimpia Smart Cyclone 899 W Filtr...   \n",
       "4  73951  Pedigree Biftekli ve Kümes Hayvanlı Yetişkin K...   \n",
       "\n",
       "                                         DESCRIPTION       CATEGORY_ID  \\\n",
       "0  <style>\\n    .uni-content {\\n        font-fami...  category_1000365   \n",
       "1  <style>\\n    .uni-content {\\n        font-fami...  category_1001377   \n",
       "2  <style>\\n    .uni-content {\\n        font-fami...  category_1001527   \n",
       "3  <meta name=\"viewport\" content=\"width=device-wi...  category_1000420   \n",
       "4  <style>\\n    .uni-content {\\n        font-fami...  category_1000958   \n",
       "\n",
       "                                 cleaned_description  \\\n",
       "0  Ürün Detayları Sonia SN-X60 Kulak Üstü Oyuncu ...   \n",
       "1  Ürün Detayları ABC Power Sıvı Bulaşık Deterjan...   \n",
       "2  Ürün Detayları Einhell TE-CD 18/2 Li 18V 2.5 A...   \n",
       "3  Ürün Detayları Arzum AR4095 Olimpia Smart Cycl...   \n",
       "4  Ürün Detayları Pedigree Biftekli ve Kümes Hayv...   \n",
       "\n",
       "                                       cleaned_title  \\\n",
       "0            Sonia SN-X60 Kulak Üstü Oyuncu Kulaklık   \n",
       "1            ABC Power Sıvı Bulaşık Deterjanı 1370 G   \n",
       "2  Einhell TE-CD 18/2 Li 18V 2.5 Ah Li-ion Akülü ...   \n",
       "3  Arzum AR4095 Olimpia Smart Cyclone 899 W Filtr...   \n",
       "4  Pedigree Biftekli ve Kümes Hayvanlı Yetişkin K...   \n",
       "\n",
       "                                           full_text  \n",
       "0  Sonia SN-X60 Kulak Üstü Oyuncu Kulaklık. Ürün ...  \n",
       "1  ABC Power Sıvı Bulaşık Deterjanı 1370 G. Ürün ...  \n",
       "2  Einhell TE-CD 18/2 Li 18V 2.5 Ah Li-ion Akülü ...  \n",
       "3  Arzum AR4095 Olimpia Smart Cyclone 899 W Filtr...  \n",
       "4  Pedigree Biftekli ve Kümes Hayvanlı Yetişkin K...  "
      ]
     },
     "execution_count": 6,
     "metadata": {},
     "output_type": "execute_result"
    }
   ],
   "source": [
    "df_train.head()"
   ]
  },
  {
   "cell_type": "code",
   "execution_count": 6,
   "metadata": {
    "ExecuteTime": {
     "end_time": "2021-11-05T12:06:31.002311Z",
     "start_time": "2021-11-05T12:06:30.940276Z"
    }
   },
   "outputs": [
    {
     "data": {
      "text/html": [
       "<div>\n",
       "<style scoped>\n",
       "    .dataframe tbody tr th:only-of-type {\n",
       "        vertical-align: middle;\n",
       "    }\n",
       "\n",
       "    .dataframe tbody tr th {\n",
       "        vertical-align: top;\n",
       "    }\n",
       "\n",
       "    .dataframe thead th {\n",
       "        text-align: right;\n",
       "    }\n",
       "</style>\n",
       "<table border=\"1\" class=\"dataframe\">\n",
       "  <thead>\n",
       "    <tr style=\"text-align: right;\">\n",
       "      <th></th>\n",
       "      <th>cleaned_description</th>\n",
       "      <th>cleaned_title</th>\n",
       "      <th>full_text</th>\n",
       "      <th>CATEGORY_ID</th>\n",
       "    </tr>\n",
       "  </thead>\n",
       "  <tbody>\n",
       "    <tr>\n",
       "      <th>0</th>\n",
       "      <td>Ürün Detayları Sonia SN-X60 Kulak Üstü Oyuncu ...</td>\n",
       "      <td>Sonia SN-X60 Kulak Üstü Oyuncu Kulaklık</td>\n",
       "      <td>Sonia SN-X60 Kulak Üstü Oyuncu Kulaklık. Ürün ...</td>\n",
       "      <td>category_1000365</td>\n",
       "    </tr>\n",
       "    <tr>\n",
       "      <th>1</th>\n",
       "      <td>Ürün Detayları ABC Power Sıvı Bulaşık Deterjan...</td>\n",
       "      <td>ABC Power Sıvı Bulaşık Deterjanı 1370 G</td>\n",
       "      <td>ABC Power Sıvı Bulaşık Deterjanı 1370 G. Ürün ...</td>\n",
       "      <td>category_1001377</td>\n",
       "    </tr>\n",
       "    <tr>\n",
       "      <th>2</th>\n",
       "      <td>Ürün Detayları Einhell TE-CD 18/2 Li 18V 2.5 A...</td>\n",
       "      <td>Einhell TE-CD 18/2 Li 18V 2.5 Ah Li-ion Akülü ...</td>\n",
       "      <td>Einhell TE-CD 18/2 Li 18V 2.5 Ah Li-ion Akülü ...</td>\n",
       "      <td>category_1001527</td>\n",
       "    </tr>\n",
       "    <tr>\n",
       "      <th>3</th>\n",
       "      <td>Ürün Detayları Arzum AR4095 Olimpia Smart Cycl...</td>\n",
       "      <td>Arzum AR4095 Olimpia Smart Cyclone 899 W Filtr...</td>\n",
       "      <td>Arzum AR4095 Olimpia Smart Cyclone 899 W Filtr...</td>\n",
       "      <td>category_1000420</td>\n",
       "    </tr>\n",
       "    <tr>\n",
       "      <th>4</th>\n",
       "      <td>Ürün Detayları Pedigree Biftekli ve Kümes Hayv...</td>\n",
       "      <td>Pedigree Biftekli ve Kümes Hayvanlı Yetişkin K...</td>\n",
       "      <td>Pedigree Biftekli ve Kümes Hayvanlı Yetişkin K...</td>\n",
       "      <td>category_1000958</td>\n",
       "    </tr>\n",
       "  </tbody>\n",
       "</table>\n",
       "</div>"
      ],
      "text/plain": [
       "                                 cleaned_description  \\\n",
       "0  Ürün Detayları Sonia SN-X60 Kulak Üstü Oyuncu ...   \n",
       "1  Ürün Detayları ABC Power Sıvı Bulaşık Deterjan...   \n",
       "2  Ürün Detayları Einhell TE-CD 18/2 Li 18V 2.5 A...   \n",
       "3  Ürün Detayları Arzum AR4095 Olimpia Smart Cycl...   \n",
       "4  Ürün Detayları Pedigree Biftekli ve Kümes Hayv...   \n",
       "\n",
       "                                       cleaned_title  \\\n",
       "0            Sonia SN-X60 Kulak Üstü Oyuncu Kulaklık   \n",
       "1            ABC Power Sıvı Bulaşık Deterjanı 1370 G   \n",
       "2  Einhell TE-CD 18/2 Li 18V 2.5 Ah Li-ion Akülü ...   \n",
       "3  Arzum AR4095 Olimpia Smart Cyclone 899 W Filtr...   \n",
       "4  Pedigree Biftekli ve Kümes Hayvanlı Yetişkin K...   \n",
       "\n",
       "                                           full_text       CATEGORY_ID  \n",
       "0  Sonia SN-X60 Kulak Üstü Oyuncu Kulaklık. Ürün ...  category_1000365  \n",
       "1  ABC Power Sıvı Bulaşık Deterjanı 1370 G. Ürün ...  category_1001377  \n",
       "2  Einhell TE-CD 18/2 Li 18V 2.5 Ah Li-ion Akülü ...  category_1001527  \n",
       "3  Arzum AR4095 Olimpia Smart Cyclone 899 W Filtr...  category_1000420  \n",
       "4  Pedigree Biftekli ve Kümes Hayvanlı Yetişkin K...  category_1000958  "
      ]
     },
     "execution_count": 6,
     "metadata": {},
     "output_type": "execute_result"
    }
   ],
   "source": [
    "df_train = df_train[['cleaned_description', 'cleaned_title', 'full_text', 'CATEGORY_ID']]\n",
    "df_train.head()"
   ]
  },
  {
   "cell_type": "code",
   "execution_count": 7,
   "metadata": {
    "ExecuteTime": {
     "end_time": "2021-11-05T12:06:31.049084Z",
     "start_time": "2021-11-05T12:06:31.036114Z"
    }
   },
   "outputs": [],
   "source": [
    "#Create Custom Tokenizer & build pipeline\n",
    "\n",
    "def get_wordnet_pos(word):\n",
    "    \"\"\"Map POS tag to first character lemmatize() accepts\"\"\"\n",
    "    tag = nltk.pos_tag([word], lang=\"turkish\")[0][1][0].upper()\n",
    "    tag_dict = {\"J\": wordnet.ADJ,\n",
    "                \"N\": wordnet.NOUN,\n",
    "                \"V\": wordnet.VERB,\n",
    "                \"R\": wordnet.ADV}\n",
    "    return tag_dict.get(tag, wordnet.NOUN)\n",
    "\n",
    "def CustomTokenizer(d):\n",
    "    tokens = wordpunct_tokenize(d)\n",
    "    lemmatizer = WordNetLemmatizer()\n",
    "    r = []\n",
    "    for token in tokens:\n",
    "        pt = get_wordnet_pos(token)\n",
    "        token = lemmatizer.lemmatize(token, pt)\n",
    "        if len(token) >= 2:\n",
    "            r.append(token)\n",
    "    return r\n",
    "\n",
    "def CustomStemmingTokenizer(d):\n",
    "    tokens = wordpunct_tokenize(d)\n",
    "    stemmer = TurkishStemmer()\n",
    "    r = []\n",
    "    for token in tokens:\n",
    "        token = stemmer.stemWord(token)\n",
    "        if len(token) >= 2:\n",
    "            r.append(token)\n",
    "    return r\n",
    "\n",
    "def TurkishTokenizer(d):\n",
    "    stopWords = set(stopwords.words('turkish'))\n",
    "    tokens = wordpunct_tokenize(d)\n",
    "    r = []\n",
    "    for token in tokens:\n",
    "        if token not in stopWords:\n",
    "            if not token.isdigit():            \n",
    "                result = zemberek2.kelimeCozumle(token)\n",
    "                if result:\n",
    "                    tok = result[0].kok().icerik()\n",
    "                    new_tok = ''.join(tok)\n",
    "                    if len(new_tok) >= 2:\n",
    "                        r.append(new_tok)\n",
    "                else:\n",
    "                    tok = token.lower()\n",
    "                    if len(tok) >= 2:\n",
    "                        r.append(tok)\n",
    "    return r\n",
    "\n",
    "\n",
    "\n",
    "def sparsetoDense(df):\n",
    "    return df.todense()\n"
   ]
  },
  {
   "cell_type": "code",
   "execution_count": 8,
   "metadata": {
    "ExecuteTime": {
     "end_time": "2021-11-05T12:07:37.812983Z",
     "start_time": "2021-11-05T12:06:31.082089Z"
    }
   },
   "outputs": [],
   "source": [
    "X_train_tknz = df_train[\"cleaned_title\"].apply(TurkishTokenizer)\n",
    "X_test_tknz = df_test[\"cleaned_title\"].apply(TurkishTokenizer)"
   ]
  },
  {
   "cell_type": "code",
   "execution_count": 18,
   "metadata": {
    "ExecuteTime": {
     "end_time": "2021-11-04T18:46:06.286197Z",
     "start_time": "2021-11-04T18:46:05.863200Z"
    }
   },
   "outputs": [
    {
     "data": {
      "image/png": "[encoded data removed]",
      "text/plain": [
       "<Figure size 432x288 with 1 Axes>"
      ]
     },
     "metadata": {
      "needs_background": "light"
     },
     "output_type": "display_data"
    }
   ],
   "source": [
    "lengths = [len(x) for x in X_train_tknz]\n",
    "sns.distplot(pd.Series(lengths));"
   ]
  },
  {
   "cell_type": "code",
   "execution_count": 9,
   "metadata": {
    "ExecuteTime": {
     "end_time": "2021-11-05T12:07:38.097478Z",
     "start_time": "2021-11-05T12:07:37.925987Z"
    }
   },
   "outputs": [],
   "source": [
    "X_train, X_val, y_train, y_val = train_test_split(X_train_tknz, df_train[\"CATEGORY_ID\"], test_size=0.25, stratify=df_train[\"CATEGORY_ID\"], random_state=42)"
   ]
  },
  {
   "cell_type": "code",
   "execution_count": 21,
   "metadata": {
    "ExecuteTime": {
     "end_time": "2021-11-04T18:46:23.463276Z",
     "start_time": "2021-11-04T18:46:20.807318Z"
    }
   },
   "outputs": [
    {
     "data": {
      "image/png": "[encoded data removed]",
      "text/plain": [
       "<Figure size 1440x720 with 1 Axes>"
      ]
     },
     "metadata": {
      "needs_background": "light"
     },
     "output_type": "display_data"
    }
   ],
   "source": [
    "plt.figure(figsize=(20, 10))\n",
    "sns.countplot(y_val)\n",
    "plt.xticks(rotation=90);"
   ]
  },
  {
   "cell_type": "code",
   "execution_count": 10,
   "metadata": {
    "ExecuteTime": {
     "end_time": "2021-11-05T12:07:38.161278Z",
     "start_time": "2021-11-05T12:07:38.147262Z"
    }
   },
   "outputs": [],
   "source": [
    "def make_feature_vec(words, w2vmodel, num_features):\n",
    "    \"\"\"\n",
    "    Average the word vectors for a set of words\n",
    "    \"\"\"\n",
    "    feature_vec = np.zeros((num_features,),dtype=\"float32\")\n",
    "    nwords = 0\n",
    "    index2word_set = set(w2vmodel.wv.index2word)  # words known to the model\n",
    "\n",
    "    for word in words:\n",
    "        if word in index2word_set: \n",
    "            nwords = nwords + 1\n",
    "            feature_vec = np.add(feature_vec,w2vmodel[word])\n",
    "    \n",
    "    feature_vec = np.divide(feature_vec, nwords)\n",
    "    return feature_vec\n",
    "\n",
    "\n",
    "def get_avg_feature_vecs(content, w2vmodel, num_features):\n",
    "    \"\"\"\n",
    "    Calculate average feature vectors for all news\n",
    "    \"\"\"\n",
    "    counter = 0\n",
    "    review_feature_vecs = dict()\n",
    "    news_feature_vecs = np.zeros((len(content),num_features), dtype='float32')  \n",
    "    \n",
    "    for word in content:\n",
    "        review_feature_vecs[counter] = make_feature_vec(word, w2vmodel, num_features)\n",
    "        counter = counter + 1\n",
    "    return review_feature_vecs"
   ]
  },
  {
   "cell_type": "markdown",
   "metadata": {},
   "source": [
    "**Optimization of Word2Vec**"
   ]
  },
  {
   "cell_type": "code",
   "execution_count": 27,
   "metadata": {
    "ExecuteTime": {
     "end_time": "2021-10-26T12:40:45.424776Z",
     "start_time": "2021-10-26T11:43:53.105321Z"
    }
   },
   "outputs": [
    {
     "name": "stdout",
     "output_type": "stream",
     "text": [
      "Model  59\n",
      "(1, 250, 15, 20, 0.001)\n",
      "Train Accuracy: 0.9084878907395939\n",
      "Train F1 Macro: 0.8612584950256962\n",
      "Val Accuracy: 0.9068596293942209\n",
      "Val F1 Macro: 0.8522716222890098\n",
      "========================================\n"
     ]
    }
   ],
   "source": [
    "# Set values for various word2vec parameters\n",
    "num_features = [50, 100, 150, 200, 250]    # Word vector dimensionality                      \n",
    "min_word_count = [5, 10, 15]   # Minimum word count                        \n",
    "num_workers = [1]       # Number of threads to run in parallel\n",
    "context = [5, 10, 15, 20]          # Context window size\n",
    "downsampling = [1e-3]   # Downsample setting for frequent words\n",
    "\n",
    "counters = []\n",
    "train_acc = []\n",
    "train_f1 = []\n",
    "val_acc = []\n",
    "val_f1 = []\n",
    "\n",
    "\n",
    "params = list(itertools.product(num_workers, num_features,min_word_count, context, downsampling))\n",
    "counter = 0\n",
    "for param in params:\n",
    "    w2vmodel = word2vec.Word2Vec(list(X_train), workers=param[0], size=param[1], min_count = param[2],\n",
    "                             window = param[3], sample = param[4])\n",
    "    w2vmodel.init_sims(replace=True)\n",
    "    \n",
    "    trainDataVecs = get_avg_feature_vecs(X_train, w2vmodel, param[1])\n",
    "    valDataVecs = get_avg_feature_vecs(X_val, w2vmodel, param[1])\n",
    "\n",
    "    trainDataVecs = pd.DataFrame.from_dict(trainDataVecs, orient='index')\n",
    "    valDataVecs = pd.DataFrame.from_dict(valDataVecs, orient='index')\n",
    "    \n",
    "    trainDataVecs = trainDataVecs.fillna(0)\n",
    "    valDataVecs = valDataVecs.fillna(0)\n",
    "\n",
    "    nb = GaussianNB()\n",
    "    \n",
    "    nb.fit(trainDataVecs, y_train)\n",
    "    train_pred = nb.predict(trainDataVecs)\n",
    "    val_pred = nb.predict(valDataVecs)\n",
    "    \n",
    "    counters.append(counter)\n",
    "    train_acc.append(accuracy_score(y_train, train_pred))\n",
    "    train_f1.append(f1_score(y_train, train_pred, average=\"macro\"))\n",
    "    val_acc.append(accuracy_score(y_val, val_pred))\n",
    "    val_f1.append(f1_score(y_val, val_pred, average=\"macro\"))\n",
    "    \n",
    "    best_model_index = 0\n",
    "    best_value = 0\n",
    "    \n",
    "    if len(val_f1) <= 1:\n",
    "        best_model_index = counter\n",
    "        best_value = f1_score(y_val, val_pred, average=\"macro\")\n",
    "        print(\"Model \",counter)\n",
    "        print(param)\n",
    "        print(\"Train Accuracy:\",accuracy_score(y_train, train_pred))\n",
    "        print(\"Train F1 Macro:\",f1_score(y_train, train_pred, average=\"macro\"))\n",
    "\n",
    "        print(\"Val Accuracy:\",accuracy_score(y_val, val_pred))\n",
    "        print(\"Val F1 Macro:\",f1_score(y_val, val_pred, average=\"macro\"))\n",
    "        print(\"=\"*40)\n",
    "        \n",
    "    elif f1_score(y_val, val_pred, average=\"macro\") > val_f1[best_model_index]:\n",
    "        best_model_index = counter        \n",
    "        best_value = f1_score(y_val, val_pred, average=\"macro\")\n",
    "        clear_output(wait=True)\n",
    "        print(\"Model \",counter)\n",
    "        print(param)\n",
    "        print(\"Train Accuracy:\",accuracy_score(y_train, train_pred))\n",
    "        print(\"Train F1 Macro:\",f1_score(y_train, train_pred, average=\"macro\"))\n",
    "\n",
    "        print(\"Val Accuracy:\",accuracy_score(y_val, val_pred))\n",
    "        print(\"Val F1 Macro:\",f1_score(y_val, val_pred, average=\"macro\"))\n",
    "        print(\"=\"*40)\n",
    "    counter += 1  "
   ]
  },
  {
   "cell_type": "code",
   "execution_count": 28,
   "metadata": {
    "ExecuteTime": {
     "end_time": "2021-10-26T12:41:24.400408Z",
     "start_time": "2021-10-26T12:41:24.379406Z"
    }
   },
   "outputs": [
    {
     "data": {
      "text/html": [
       "<div>\n",
       "<style scoped>\n",
       "    .dataframe tbody tr th:only-of-type {\n",
       "        vertical-align: middle;\n",
       "    }\n",
       "\n",
       "    .dataframe tbody tr th {\n",
       "        vertical-align: top;\n",
       "    }\n",
       "\n",
       "    .dataframe thead th {\n",
       "        text-align: right;\n",
       "    }\n",
       "</style>\n",
       "<table border=\"1\" class=\"dataframe\">\n",
       "  <thead>\n",
       "    <tr style=\"text-align: right;\">\n",
       "      <th></th>\n",
       "      <th>model_id</th>\n",
       "      <th>train_acc</th>\n",
       "      <th>train_f1</th>\n",
       "      <th>val_acc</th>\n",
       "      <th>val_f1</th>\n",
       "    </tr>\n",
       "  </thead>\n",
       "  <tbody>\n",
       "    <tr>\n",
       "      <th>23</th>\n",
       "      <td>23</td>\n",
       "      <td>0.909987</td>\n",
       "      <td>0.862375</td>\n",
       "      <td>0.910135</td>\n",
       "      <td>0.856192</td>\n",
       "    </tr>\n",
       "    <tr>\n",
       "      <th>11</th>\n",
       "      <td>11</td>\n",
       "      <td>0.910085</td>\n",
       "      <td>0.862483</td>\n",
       "      <td>0.908326</td>\n",
       "      <td>0.854287</td>\n",
       "    </tr>\n",
       "    <tr>\n",
       "      <th>35</th>\n",
       "      <td>35</td>\n",
       "      <td>0.908569</td>\n",
       "      <td>0.861690</td>\n",
       "      <td>0.907740</td>\n",
       "      <td>0.854227</td>\n",
       "    </tr>\n",
       "    <tr>\n",
       "      <th>47</th>\n",
       "      <td>47</td>\n",
       "      <td>0.908651</td>\n",
       "      <td>0.861486</td>\n",
       "      <td>0.907153</td>\n",
       "      <td>0.853612</td>\n",
       "    </tr>\n",
       "    <tr>\n",
       "      <th>21</th>\n",
       "      <td>21</td>\n",
       "      <td>0.907836</td>\n",
       "      <td>0.860132</td>\n",
       "      <td>0.907104</td>\n",
       "      <td>0.853123</td>\n",
       "    </tr>\n",
       "    <tr>\n",
       "      <th>3</th>\n",
       "      <td>3</td>\n",
       "      <td>0.908781</td>\n",
       "      <td>0.861327</td>\n",
       "      <td>0.907055</td>\n",
       "      <td>0.853032</td>\n",
       "    </tr>\n",
       "    <tr>\n",
       "      <th>19</th>\n",
       "      <td>19</td>\n",
       "      <td>0.907429</td>\n",
       "      <td>0.858497</td>\n",
       "      <td>0.907495</td>\n",
       "      <td>0.852542</td>\n",
       "    </tr>\n",
       "    <tr>\n",
       "      <th>34</th>\n",
       "      <td>34</td>\n",
       "      <td>0.908406</td>\n",
       "      <td>0.860981</td>\n",
       "      <td>0.907104</td>\n",
       "      <td>0.852483</td>\n",
       "    </tr>\n",
       "    <tr>\n",
       "      <th>59</th>\n",
       "      <td>59</td>\n",
       "      <td>0.908488</td>\n",
       "      <td>0.861258</td>\n",
       "      <td>0.906860</td>\n",
       "      <td>0.852272</td>\n",
       "    </tr>\n",
       "    <tr>\n",
       "      <th>46</th>\n",
       "      <td>46</td>\n",
       "      <td>0.907917</td>\n",
       "      <td>0.859940</td>\n",
       "      <td>0.906420</td>\n",
       "      <td>0.851925</td>\n",
       "    </tr>\n",
       "    <tr>\n",
       "      <th>45</th>\n",
       "      <td>45</td>\n",
       "      <td>0.907869</td>\n",
       "      <td>0.860792</td>\n",
       "      <td>0.905980</td>\n",
       "      <td>0.851909</td>\n",
       "    </tr>\n",
       "    <tr>\n",
       "      <th>58</th>\n",
       "      <td>58</td>\n",
       "      <td>0.907722</td>\n",
       "      <td>0.859341</td>\n",
       "      <td>0.906175</td>\n",
       "      <td>0.851791</td>\n",
       "    </tr>\n",
       "    <tr>\n",
       "      <th>57</th>\n",
       "      <td>57</td>\n",
       "      <td>0.907200</td>\n",
       "      <td>0.859315</td>\n",
       "      <td>0.905735</td>\n",
       "      <td>0.851654</td>\n",
       "    </tr>\n",
       "    <tr>\n",
       "      <th>33</th>\n",
       "      <td>33</td>\n",
       "      <td>0.908162</td>\n",
       "      <td>0.860746</td>\n",
       "      <td>0.905637</td>\n",
       "      <td>0.851287</td>\n",
       "    </tr>\n",
       "    <tr>\n",
       "      <th>22</th>\n",
       "      <td>22</td>\n",
       "      <td>0.908651</td>\n",
       "      <td>0.860223</td>\n",
       "      <td>0.906811</td>\n",
       "      <td>0.851282</td>\n",
       "    </tr>\n",
       "    <tr>\n",
       "      <th>15</th>\n",
       "      <td>15</td>\n",
       "      <td>0.906190</td>\n",
       "      <td>0.857078</td>\n",
       "      <td>0.905393</td>\n",
       "      <td>0.850658</td>\n",
       "    </tr>\n",
       "    <tr>\n",
       "      <th>9</th>\n",
       "      <td>9</td>\n",
       "      <td>0.908146</td>\n",
       "      <td>0.859673</td>\n",
       "      <td>0.905931</td>\n",
       "      <td>0.849939</td>\n",
       "    </tr>\n",
       "    <tr>\n",
       "      <th>27</th>\n",
       "      <td>27</td>\n",
       "      <td>0.905131</td>\n",
       "      <td>0.856056</td>\n",
       "      <td>0.904659</td>\n",
       "      <td>0.849852</td>\n",
       "    </tr>\n",
       "    <tr>\n",
       "      <th>43</th>\n",
       "      <td>43</td>\n",
       "      <td>0.905831</td>\n",
       "      <td>0.857032</td>\n",
       "      <td>0.905246</td>\n",
       "      <td>0.849795</td>\n",
       "    </tr>\n",
       "    <tr>\n",
       "      <th>10</th>\n",
       "      <td>10</td>\n",
       "      <td>0.910052</td>\n",
       "      <td>0.861677</td>\n",
       "      <td>0.906615</td>\n",
       "      <td>0.849643</td>\n",
       "    </tr>\n",
       "    <tr>\n",
       "      <th>42</th>\n",
       "      <td>42</td>\n",
       "      <td>0.906777</td>\n",
       "      <td>0.857976</td>\n",
       "      <td>0.905588</td>\n",
       "      <td>0.849607</td>\n",
       "    </tr>\n",
       "    <tr>\n",
       "      <th>7</th>\n",
       "      <td>7</td>\n",
       "      <td>0.910313</td>\n",
       "      <td>0.862302</td>\n",
       "      <td>0.906664</td>\n",
       "      <td>0.849516</td>\n",
       "    </tr>\n",
       "    <tr>\n",
       "      <th>6</th>\n",
       "      <td>6</td>\n",
       "      <td>0.908358</td>\n",
       "      <td>0.860404</td>\n",
       "      <td>0.905588</td>\n",
       "      <td>0.849316</td>\n",
       "    </tr>\n",
       "    <tr>\n",
       "      <th>39</th>\n",
       "      <td>39</td>\n",
       "      <td>0.904919</td>\n",
       "      <td>0.855704</td>\n",
       "      <td>0.904513</td>\n",
       "      <td>0.849261</td>\n",
       "    </tr>\n",
       "    <tr>\n",
       "      <th>30</th>\n",
       "      <td>30</td>\n",
       "      <td>0.906956</td>\n",
       "      <td>0.858417</td>\n",
       "      <td>0.905197</td>\n",
       "      <td>0.848926</td>\n",
       "    </tr>\n",
       "    <tr>\n",
       "      <th>18</th>\n",
       "      <td>18</td>\n",
       "      <td>0.907054</td>\n",
       "      <td>0.858248</td>\n",
       "      <td>0.905442</td>\n",
       "      <td>0.848547</td>\n",
       "    </tr>\n",
       "    <tr>\n",
       "      <th>55</th>\n",
       "      <td>55</td>\n",
       "      <td>0.905457</td>\n",
       "      <td>0.856232</td>\n",
       "      <td>0.904855</td>\n",
       "      <td>0.848440</td>\n",
       "    </tr>\n",
       "    <tr>\n",
       "      <th>31</th>\n",
       "      <td>31</td>\n",
       "      <td>0.906304</td>\n",
       "      <td>0.857441</td>\n",
       "      <td>0.904904</td>\n",
       "      <td>0.848163</td>\n",
       "    </tr>\n",
       "    <tr>\n",
       "      <th>54</th>\n",
       "      <td>54</td>\n",
       "      <td>0.905750</td>\n",
       "      <td>0.856409</td>\n",
       "      <td>0.903926</td>\n",
       "      <td>0.847599</td>\n",
       "    </tr>\n",
       "    <tr>\n",
       "      <th>2</th>\n",
       "      <td>2</td>\n",
       "      <td>0.909058</td>\n",
       "      <td>0.858808</td>\n",
       "      <td>0.906077</td>\n",
       "      <td>0.847446</td>\n",
       "    </tr>\n",
       "    <tr>\n",
       "      <th>1</th>\n",
       "      <td>1</td>\n",
       "      <td>0.905571</td>\n",
       "      <td>0.856239</td>\n",
       "      <td>0.905051</td>\n",
       "      <td>0.847439</td>\n",
       "    </tr>\n",
       "    <tr>\n",
       "      <th>51</th>\n",
       "      <td>51</td>\n",
       "      <td>0.903517</td>\n",
       "      <td>0.853807</td>\n",
       "      <td>0.902557</td>\n",
       "      <td>0.846918</td>\n",
       "    </tr>\n",
       "    <tr>\n",
       "      <th>5</th>\n",
       "      <td>5</td>\n",
       "      <td>0.905033</td>\n",
       "      <td>0.855839</td>\n",
       "      <td>0.903975</td>\n",
       "      <td>0.846917</td>\n",
       "    </tr>\n",
       "    <tr>\n",
       "      <th>29</th>\n",
       "      <td>29</td>\n",
       "      <td>0.903631</td>\n",
       "      <td>0.854132</td>\n",
       "      <td>0.903046</td>\n",
       "      <td>0.846833</td>\n",
       "    </tr>\n",
       "    <tr>\n",
       "      <th>13</th>\n",
       "      <td>13</td>\n",
       "      <td>0.904544</td>\n",
       "      <td>0.854221</td>\n",
       "      <td>0.903437</td>\n",
       "      <td>0.846461</td>\n",
       "    </tr>\n",
       "    <tr>\n",
       "      <th>14</th>\n",
       "      <td>14</td>\n",
       "      <td>0.907200</td>\n",
       "      <td>0.856262</td>\n",
       "      <td>0.904562</td>\n",
       "      <td>0.846307</td>\n",
       "    </tr>\n",
       "    <tr>\n",
       "      <th>53</th>\n",
       "      <td>53</td>\n",
       "      <td>0.903224</td>\n",
       "      <td>0.852972</td>\n",
       "      <td>0.902410</td>\n",
       "      <td>0.845626</td>\n",
       "    </tr>\n",
       "    <tr>\n",
       "      <th>41</th>\n",
       "      <td>41</td>\n",
       "      <td>0.903452</td>\n",
       "      <td>0.853877</td>\n",
       "      <td>0.901921</td>\n",
       "      <td>0.845618</td>\n",
       "    </tr>\n",
       "    <tr>\n",
       "      <th>17</th>\n",
       "      <td>17</td>\n",
       "      <td>0.904202</td>\n",
       "      <td>0.855021</td>\n",
       "      <td>0.901775</td>\n",
       "      <td>0.845173</td>\n",
       "    </tr>\n",
       "    <tr>\n",
       "      <th>26</th>\n",
       "      <td>26</td>\n",
       "      <td>0.905619</td>\n",
       "      <td>0.855107</td>\n",
       "      <td>0.903144</td>\n",
       "      <td>0.845137</td>\n",
       "    </tr>\n",
       "    <tr>\n",
       "      <th>37</th>\n",
       "      <td>37</td>\n",
       "      <td>0.903256</td>\n",
       "      <td>0.853452</td>\n",
       "      <td>0.901433</td>\n",
       "      <td>0.845090</td>\n",
       "    </tr>\n",
       "    <tr>\n",
       "      <th>25</th>\n",
       "      <td>25</td>\n",
       "      <td>0.903810</td>\n",
       "      <td>0.853990</td>\n",
       "      <td>0.901628</td>\n",
       "      <td>0.844996</td>\n",
       "    </tr>\n",
       "    <tr>\n",
       "      <th>38</th>\n",
       "      <td>38</td>\n",
       "      <td>0.904968</td>\n",
       "      <td>0.853773</td>\n",
       "      <td>0.902655</td>\n",
       "      <td>0.844719</td>\n",
       "    </tr>\n",
       "    <tr>\n",
       "      <th>50</th>\n",
       "      <td>50</td>\n",
       "      <td>0.904935</td>\n",
       "      <td>0.853576</td>\n",
       "      <td>0.902264</td>\n",
       "      <td>0.844676</td>\n",
       "    </tr>\n",
       "    <tr>\n",
       "      <th>28</th>\n",
       "      <td>28</td>\n",
       "      <td>0.900746</td>\n",
       "      <td>0.852533</td>\n",
       "      <td>0.899672</td>\n",
       "      <td>0.844533</td>\n",
       "    </tr>\n",
       "    <tr>\n",
       "      <th>20</th>\n",
       "      <td>20</td>\n",
       "      <td>0.900795</td>\n",
       "      <td>0.851656</td>\n",
       "      <td>0.900552</td>\n",
       "      <td>0.843799</td>\n",
       "    </tr>\n",
       "    <tr>\n",
       "      <th>16</th>\n",
       "      <td>16</td>\n",
       "      <td>0.901154</td>\n",
       "      <td>0.852177</td>\n",
       "      <td>0.900308</td>\n",
       "      <td>0.843726</td>\n",
       "    </tr>\n",
       "    <tr>\n",
       "      <th>49</th>\n",
       "      <td>49</td>\n",
       "      <td>0.902393</td>\n",
       "      <td>0.851724</td>\n",
       "      <td>0.900552</td>\n",
       "      <td>0.843494</td>\n",
       "    </tr>\n",
       "    <tr>\n",
       "      <th>8</th>\n",
       "      <td>8</td>\n",
       "      <td>0.901855</td>\n",
       "      <td>0.851009</td>\n",
       "      <td>0.900944</td>\n",
       "      <td>0.843214</td>\n",
       "    </tr>\n",
       "    <tr>\n",
       "      <th>40</th>\n",
       "      <td>40</td>\n",
       "      <td>0.900372</td>\n",
       "      <td>0.852325</td>\n",
       "      <td>0.898597</td>\n",
       "      <td>0.843106</td>\n",
       "    </tr>\n",
       "    <tr>\n",
       "      <th>52</th>\n",
       "      <td>52</td>\n",
       "      <td>0.899850</td>\n",
       "      <td>0.851571</td>\n",
       "      <td>0.898352</td>\n",
       "      <td>0.842647</td>\n",
       "    </tr>\n",
       "    <tr>\n",
       "      <th>56</th>\n",
       "      <td>56</td>\n",
       "      <td>0.900258</td>\n",
       "      <td>0.851441</td>\n",
       "      <td>0.898792</td>\n",
       "      <td>0.842195</td>\n",
       "    </tr>\n",
       "    <tr>\n",
       "      <th>44</th>\n",
       "      <td>44</td>\n",
       "      <td>0.900600</td>\n",
       "      <td>0.851403</td>\n",
       "      <td>0.898988</td>\n",
       "      <td>0.841962</td>\n",
       "    </tr>\n",
       "    <tr>\n",
       "      <th>4</th>\n",
       "      <td>4</td>\n",
       "      <td>0.902115</td>\n",
       "      <td>0.852332</td>\n",
       "      <td>0.900161</td>\n",
       "      <td>0.841438</td>\n",
       "    </tr>\n",
       "    <tr>\n",
       "      <th>32</th>\n",
       "      <td>32</td>\n",
       "      <td>0.899769</td>\n",
       "      <td>0.850685</td>\n",
       "      <td>0.898059</td>\n",
       "      <td>0.841250</td>\n",
       "    </tr>\n",
       "    <tr>\n",
       "      <th>12</th>\n",
       "      <td>12</td>\n",
       "      <td>0.894325</td>\n",
       "      <td>0.845012</td>\n",
       "      <td>0.895565</td>\n",
       "      <td>0.840054</td>\n",
       "    </tr>\n",
       "    <tr>\n",
       "      <th>0</th>\n",
       "      <td>0</td>\n",
       "      <td>0.894618</td>\n",
       "      <td>0.843512</td>\n",
       "      <td>0.895174</td>\n",
       "      <td>0.837472</td>\n",
       "    </tr>\n",
       "    <tr>\n",
       "      <th>24</th>\n",
       "      <td>24</td>\n",
       "      <td>0.892842</td>\n",
       "      <td>0.843340</td>\n",
       "      <td>0.892779</td>\n",
       "      <td>0.836136</td>\n",
       "    </tr>\n",
       "    <tr>\n",
       "      <th>48</th>\n",
       "      <td>48</td>\n",
       "      <td>0.891131</td>\n",
       "      <td>0.841303</td>\n",
       "      <td>0.892339</td>\n",
       "      <td>0.835249</td>\n",
       "    </tr>\n",
       "    <tr>\n",
       "      <th>36</th>\n",
       "      <td>36</td>\n",
       "      <td>0.891815</td>\n",
       "      <td>0.841813</td>\n",
       "      <td>0.892290</td>\n",
       "      <td>0.834194</td>\n",
       "    </tr>\n",
       "  </tbody>\n",
       "</table>\n",
       "</div>"
      ],
      "text/plain": [
       "    model_id  train_acc  train_f1   val_acc    val_f1\n",
       "23        23   0.909987  0.862375  0.910135  0.856192\n",
       "11        11   0.910085  0.862483  0.908326  0.854287\n",
       "35        35   0.908569  0.861690  0.907740  0.854227\n",
       "47        47   0.908651  0.861486  0.907153  0.853612\n",
       "21        21   0.907836  0.860132  0.907104  0.853123\n",
       "3          3   0.908781  0.861327  0.907055  0.853032\n",
       "19        19   0.907429  0.858497  0.907495  0.852542\n",
       "34        34   0.908406  0.860981  0.907104  0.852483\n",
       "59        59   0.908488  0.861258  0.906860  0.852272\n",
       "46        46   0.907917  0.859940  0.906420  0.851925\n",
       "45        45   0.907869  0.860792  0.905980  0.851909\n",
       "58        58   0.907722  0.859341  0.906175  0.851791\n",
       "57        57   0.907200  0.859315  0.905735  0.851654\n",
       "33        33   0.908162  0.860746  0.905637  0.851287\n",
       "22        22   0.908651  0.860223  0.906811  0.851282\n",
       "15        15   0.906190  0.857078  0.905393  0.850658\n",
       "9          9   0.908146  0.859673  0.905931  0.849939\n",
       "27        27   0.905131  0.856056  0.904659  0.849852\n",
       "43        43   0.905831  0.857032  0.905246  0.849795\n",
       "10        10   0.910052  0.861677  0.906615  0.849643\n",
       "42        42   0.906777  0.857976  0.905588  0.849607\n",
       "7          7   0.910313  0.862302  0.906664  0.849516\n",
       "6          6   0.908358  0.860404  0.905588  0.849316\n",
       "39        39   0.904919  0.855704  0.904513  0.849261\n",
       "30        30   0.906956  0.858417  0.905197  0.848926\n",
       "18        18   0.907054  0.858248  0.905442  0.848547\n",
       "55        55   0.905457  0.856232  0.904855  0.848440\n",
       "31        31   0.906304  0.857441  0.904904  0.848163\n",
       "54        54   0.905750  0.856409  0.903926  0.847599\n",
       "2          2   0.909058  0.858808  0.906077  0.847446\n",
       "1          1   0.905571  0.856239  0.905051  0.847439\n",
       "51        51   0.903517  0.853807  0.902557  0.846918\n",
       "5          5   0.905033  0.855839  0.903975  0.846917\n",
       "29        29   0.903631  0.854132  0.903046  0.846833\n",
       "13        13   0.904544  0.854221  0.903437  0.846461\n",
       "14        14   0.907200  0.856262  0.904562  0.846307\n",
       "53        53   0.903224  0.852972  0.902410  0.845626\n",
       "41        41   0.903452  0.853877  0.901921  0.845618\n",
       "17        17   0.904202  0.855021  0.901775  0.845173\n",
       "26        26   0.905619  0.855107  0.903144  0.845137\n",
       "37        37   0.903256  0.853452  0.901433  0.845090\n",
       "25        25   0.903810  0.853990  0.901628  0.844996\n",
       "38        38   0.904968  0.853773  0.902655  0.844719\n",
       "50        50   0.904935  0.853576  0.902264  0.844676\n",
       "28        28   0.900746  0.852533  0.899672  0.844533\n",
       "20        20   0.900795  0.851656  0.900552  0.843799\n",
       "16        16   0.901154  0.852177  0.900308  0.843726\n",
       "49        49   0.902393  0.851724  0.900552  0.843494\n",
       "8          8   0.901855  0.851009  0.900944  0.843214\n",
       "40        40   0.900372  0.852325  0.898597  0.843106\n",
       "52        52   0.899850  0.851571  0.898352  0.842647\n",
       "56        56   0.900258  0.851441  0.898792  0.842195\n",
       "44        44   0.900600  0.851403  0.898988  0.841962\n",
       "4          4   0.902115  0.852332  0.900161  0.841438\n",
       "32        32   0.899769  0.850685  0.898059  0.841250\n",
       "12        12   0.894325  0.845012  0.895565  0.840054\n",
       "0          0   0.894618  0.843512  0.895174  0.837472\n",
       "24        24   0.892842  0.843340  0.892779  0.836136\n",
       "48        48   0.891131  0.841303  0.892339  0.835249\n",
       "36        36   0.891815  0.841813  0.892290  0.834194"
      ]
     },
     "execution_count": 28,
     "metadata": {},
     "output_type": "execute_result"
    }
   ],
   "source": [
    "w2v_df = pd.DataFrame(\n",
    "    {\n",
    "     'model_id': counters,\n",
    "     'train_acc': train_acc,\n",
    "     'train_f1': train_f1,\n",
    "     'val_acc': val_acc,\n",
    "     'val_f1': val_f1\n",
    "    })\n",
    "\n",
    "w2v_df.sort_values(by='val_f1', ascending=False)"
   ]
  },
  {
   "cell_type": "code",
   "execution_count": 29,
   "metadata": {
    "ExecuteTime": {
     "end_time": "2021-10-26T12:41:37.451659Z",
     "start_time": "2021-10-26T12:41:37.438665Z"
    }
   },
   "outputs": [
    {
     "data": {
      "text/plain": [
       "(1, 100, 15, 20, 0.001)"
      ]
     },
     "execution_count": 29,
     "metadata": {},
     "output_type": "execute_result"
    }
   ],
   "source": [
    "params[23]"
   ]
  },
  {
   "cell_type": "code",
   "execution_count": 30,
   "metadata": {
    "ExecuteTime": {
     "end_time": "2021-10-26T12:42:24.215561Z",
     "start_time": "2021-10-26T12:41:47.353562Z"
    }
   },
   "outputs": [
    {
     "name": "stdout",
     "output_type": "stream",
     "text": [
      "Train Accuracy: 0.9099872877212426\n",
      "Train F1 Macro: 0.8623749735786557\n",
      "Val Accuracy: 0.9101354324548966\n",
      "Val F1 Macro: 0.8561915716404302\n"
     ]
    }
   ],
   "source": [
    "w2vmodel = word2vec.Word2Vec(list(X_train), workers=1, size=params[23][1], min_count = params[23][2],\n",
    "                         window = params[23][3], sample = params[23][4])\n",
    "w2vmodel.init_sims(replace=True)\n",
    "\n",
    "trainDataVecs = get_avg_feature_vecs(X_train, w2vmodel, params[23][1])\n",
    "valDataVecs = get_avg_feature_vecs(X_val, w2vmodel, params[23][1])\n",
    "\n",
    "trainDataVecs = pd.DataFrame.from_dict(trainDataVecs, orient='index')\n",
    "valDataVecs = pd.DataFrame.from_dict(valDataVecs, orient='index')\n",
    "\n",
    "trainDataVecs = trainDataVecs.fillna(0)\n",
    "valDataVecs = valDataVecs.fillna(0)\n",
    "\n",
    "nb = GaussianNB()\n",
    "\n",
    "nb.fit(trainDataVecs, y_train)\n",
    "train_pred = nb.predict(trainDataVecs)\n",
    "val_pred = nb.predict(valDataVecs)\n",
    "\n",
    "print(\"Train Accuracy:\",accuracy_score(y_train, train_pred))\n",
    "print(\"Train F1 Macro:\",f1_score(y_train, train_pred, average=\"macro\"))\n",
    "\n",
    "print(\"Val Accuracy:\",accuracy_score(y_val, val_pred))\n",
    "print(\"Val F1 Macro:\",f1_score(y_val, val_pred, average=\"macro\"))"
   ]
  },
  {
   "cell_type": "code",
   "execution_count": 44,
   "metadata": {
    "ExecuteTime": {
     "end_time": "2021-10-26T18:21:06.701009Z",
     "start_time": "2021-10-26T18:10:23.048439Z"
    }
   },
   "outputs": [
    {
     "name": "stdout",
     "output_type": "stream",
     "text": [
      "Train Accuracy: 0.1600606277909971\n",
      "Train F1 Macro: 0.07863034579199203\n",
      "Val Accuracy: 0.15567398425658827\n",
      "Val F1 Macro: 0.0774504432471032\n"
     ]
    }
   ],
   "source": [
    "#We try an LightGBM Classifier with its default parameters\n",
    "\n",
    "lgb = LGBMClassifier(n_jobs=-1)\n",
    "lgb.fit(trainDataVecs, y_train)\n",
    "train_pred = lgb.predict(trainDataVecs)\n",
    "val_pred = lgb.predict(valDataVecs)\n",
    "\n",
    "print(\"Train Accuracy:\",accuracy_score(y_train, train_pred))\n",
    "print(\"Train F1 Macro:\",f1_score(y_train, train_pred, average=\"macro\"))\n",
    "\n",
    "print(\"Val Accuracy:\",accuracy_score(y_val, val_pred))\n",
    "print(\"Val F1 Macro:\",f1_score(y_val, val_pred, average=\"macro\"))"
   ]
  },
  {
   "cell_type": "markdown",
   "metadata": {},
   "source": [
    "Try different algorithms to compare the results and decide on which algorithm to fine tune."
   ]
  },
  {
   "cell_type": "code",
   "execution_count": 15,
   "metadata": {
    "ExecuteTime": {
     "end_time": "2021-11-04T20:23:20.485443Z",
     "start_time": "2021-11-04T20:06:39.118389Z"
    }
   },
   "outputs": [
    {
     "name": "stdout",
     "output_type": "stream",
     "text": [
      "0\n",
      "1\n",
      "2\n",
      "3\n",
      "4\n"
     ]
    }
   ],
   "source": [
    "model_list = [LGBMClassifier(n_jobs=-1, random_state=42), RandomForestClassifier(n_jobs=-1, random_state=42),\n",
    "              ExtraTreesClassifier(random_state=42), SVC(random_state=42), LogisticRegression(class_weight='balanced')\n",
    "             ]\n",
    "\n",
    "train_accs = []\n",
    "train_f1s = []\n",
    "val_accs = []\n",
    "val_f1s = []\n",
    "times = []\n",
    "\n",
    "counter = 0\n",
    "\n",
    "for model in model_list:\n",
    "    mod = model\n",
    "    start_time = time.time()\n",
    "    mod.fit(trainDataVecs, y_train)\n",
    "    end_time = time.time()\n",
    "    train_pred = mod.predict(trainDataVecs)\n",
    "    val_pred = mod.predict(valDataVecs)\n",
    "    \n",
    "    train_accs.append(accuracy_score(y_train, train_pred))\n",
    "    train_f1s.append(f1_score(y_train, train_pred, average=\"macro\"))\n",
    "    val_accs.append(accuracy_score(y_val, val_pred))\n",
    "    val_f1s.append(f1_score(y_val, val_pred, average=\"macro\"))\n",
    "    times.append(end_time - start_time)\n",
    "    print(counter)\n",
    "    counter += 1\n",
    "    "
   ]
  },
  {
   "cell_type": "code",
   "execution_count": 17,
   "metadata": {
    "ExecuteTime": {
     "end_time": "2021-11-04T20:36:05.349171Z",
     "start_time": "2021-11-04T20:36:05.249138Z"
    }
   },
   "outputs": [
    {
     "data": {
      "text/html": [
       "<div>\n",
       "<style scoped>\n",
       "    .dataframe tbody tr th:only-of-type {\n",
       "        vertical-align: middle;\n",
       "    }\n",
       "\n",
       "    .dataframe tbody tr th {\n",
       "        vertical-align: top;\n",
       "    }\n",
       "\n",
       "    .dataframe thead th {\n",
       "        text-align: right;\n",
       "    }\n",
       "</style>\n",
       "<table border=\"1\" class=\"dataframe\">\n",
       "  <thead>\n",
       "    <tr style=\"text-align: right;\">\n",
       "      <th></th>\n",
       "      <th>model</th>\n",
       "      <th>train_acc</th>\n",
       "      <th>train_f1</th>\n",
       "      <th>val_acc</th>\n",
       "      <th>val_f1</th>\n",
       "      <th>duration</th>\n",
       "    </tr>\n",
       "  </thead>\n",
       "  <tbody>\n",
       "    <tr>\n",
       "      <th>2</th>\n",
       "      <td>(ExtraTreeClassifier(random_state=1608637542),...</td>\n",
       "      <td>0.997849</td>\n",
       "      <td>0.995462</td>\n",
       "      <td>0.962402</td>\n",
       "      <td>0.931452</td>\n",
       "      <td>21.059024</td>\n",
       "    </tr>\n",
       "    <tr>\n",
       "      <th>1</th>\n",
       "      <td>(DecisionTreeClassifier(max_features='auto', r...</td>\n",
       "      <td>0.997849</td>\n",
       "      <td>0.995455</td>\n",
       "      <td>0.961033</td>\n",
       "      <td>0.930892</td>\n",
       "      <td>39.528142</td>\n",
       "    </tr>\n",
       "    <tr>\n",
       "      <th>3</th>\n",
       "      <td>SVC(random_state=42)</td>\n",
       "      <td>0.956762</td>\n",
       "      <td>0.923548</td>\n",
       "      <td>0.949934</td>\n",
       "      <td>0.909223</td>\n",
       "      <td>40.521037</td>\n",
       "    </tr>\n",
       "    <tr>\n",
       "      <th>4</th>\n",
       "      <td>LogisticRegression(class_weight='balanced')</td>\n",
       "      <td>0.933098</td>\n",
       "      <td>0.896720</td>\n",
       "      <td>0.929204</td>\n",
       "      <td>0.887387</td>\n",
       "      <td>54.976982</td>\n",
       "    </tr>\n",
       "    <tr>\n",
       "      <th>0</th>\n",
       "      <td>LGBMClassifier(random_state=42)</td>\n",
       "      <td>0.077529</td>\n",
       "      <td>0.011654</td>\n",
       "      <td>0.077690</td>\n",
       "      <td>0.011530</td>\n",
       "      <td>164.564867</td>\n",
       "    </tr>\n",
       "  </tbody>\n",
       "</table>\n",
       "</div>"
      ],
      "text/plain": [
       "                                               model  train_acc  train_f1  \\\n",
       "2  (ExtraTreeClassifier(random_state=1608637542),...   0.997849  0.995462   \n",
       "1  (DecisionTreeClassifier(max_features='auto', r...   0.997849  0.995455   \n",
       "3                               SVC(random_state=42)   0.956762  0.923548   \n",
       "4        LogisticRegression(class_weight='balanced')   0.933098  0.896720   \n",
       "0                    LGBMClassifier(random_state=42)   0.077529  0.011654   \n",
       "\n",
       "    val_acc    val_f1    duration  \n",
       "2  0.962402  0.931452   21.059024  \n",
       "1  0.961033  0.930892   39.528142  \n",
       "3  0.949934  0.909223   40.521037  \n",
       "4  0.929204  0.887387   54.976982  \n",
       "0  0.077690  0.011530  164.564867  "
      ]
     },
     "execution_count": 17,
     "metadata": {},
     "output_type": "execute_result"
    }
   ],
   "source": [
    "modelsdf = pd.DataFrame(\n",
    "    {\n",
    "     'model': model_list,\n",
    "     'train_acc': train_accs,\n",
    "     'train_f1': train_f1s,\n",
    "     'val_acc': val_accs,\n",
    "     'val_f1': val_f1s,\n",
    "     'duration': times\n",
    "    })\n",
    "\n",
    "modelsdf.sort_values(by='val_f1', ascending=False)"
   ]
  },
  {
   "cell_type": "markdown",
   "metadata": {
    "ExecuteTime": {
     "end_time": "2021-11-06T12:18:38.411792Z",
     "start_time": "2021-11-06T12:18:38.378520Z"
    }
   },
   "source": [
    "Fine tune the parameters of ExtraTreesClassifier"
   ]
  },
  {
   "cell_type": "code",
   "execution_count": 67,
   "metadata": {
    "ExecuteTime": {
     "end_time": "2021-10-27T04:31:45.982545Z",
     "start_time": "2021-10-27T01:17:38.283656Z"
    }
   },
   "outputs": [
    {
     "name": "stdout",
     "output_type": "stream",
     "text": [
      "Fitting 3 folds for each of 1536 candidates, totalling 4608 fits\n"
     ]
    },
    {
     "name": "stderr",
     "output_type": "stream",
     "text": [
      "[Parallel(n_jobs=-1)]: Using backend LokyBackend with 8 concurrent workers.\n",
      "[Parallel(n_jobs=-1)]: Done  25 tasks      | elapsed:  1.1min\n",
      "[Parallel(n_jobs=-1)]: Done 146 tasks      | elapsed:  5.3min\n",
      "[Parallel(n_jobs=-1)]: Done 349 tasks      | elapsed: 13.7min\n",
      "[Parallel(n_jobs=-1)]: Done 632 tasks      | elapsed: 34.8min\n",
      "[Parallel(n_jobs=-1)]: Done 997 tasks      | elapsed: 81.7min\n",
      "[Parallel(n_jobs=-1)]: Done 1442 tasks      | elapsed: 100.2min\n",
      "[Parallel(n_jobs=-1)]: Done 1969 tasks      | elapsed: 101.6min\n",
      "[Parallel(n_jobs=-1)]: Done 2576 tasks      | elapsed: 112.4min\n",
      "[Parallel(n_jobs=-1)]: Done 3265 tasks      | elapsed: 169.1min\n",
      "[Parallel(n_jobs=-1)]: Done 4034 tasks      | elapsed: 192.3min\n",
      "[Parallel(n_jobs=-1)]: Done 4608 out of 4608 | elapsed: 193.5min finished\n"
     ]
    },
    {
     "name": "stdout",
     "output_type": "stream",
     "text": [
      "{'class_weight': 'balanced', 'criterion': 'gini', 'max_depth': 20, 'min_samples_leaf': 1, 'min_samples_split': 2, 'n_estimators': 200}\n",
      "Train Set Accuracy: 0.9977997979073634\n",
      "Train Set F1-Score: 0.9954062119196351\n",
      "\n",
      "Test Set Accuracy: 0.9642595218305383\n",
      "Test Set F1-Score: 0.9355978288177385\n"
     ]
    }
   ],
   "source": [
    "etc = ExtraTreesClassifier(n_jobs=-1, random_state=42)\n",
    "\n",
    "params = {\n",
    "    \"n_estimators\": [50, 100, 150, 200],\n",
    "    \"criterion\": ['gini', \"impurity\"],\n",
    "    \"max_depth\": [3, 5, 10, 15, 20, None],\n",
    "    \"min_samples_split\": [2, 4, 7, 10],\n",
    "    \"min_samples_leaf\": [1, 3, 5, 10],   \n",
    "    \"class_weight\":[\"balanced\", None],\n",
    "}\n",
    "\n",
    "f1_scorer = make_scorer(f1_score, average='macro')\n",
    "\n",
    "grid1 = GridSearchCV(etc, param_grid=params, cv=3, n_jobs=-1, scoring=f1_scorer, verbose=2)\n",
    "grid1.fit(trainDataVecs, y_train)\n",
    "\n",
    "print(grid1.best_params_)\n",
    "\n",
    "y_train_grid1 = grid1.predict(trainDataVecs)\n",
    "y_val_grid1 = grid1.predict(valDataVecs)\n",
    "\n",
    "print(\"Train Set Accuracy:\", accuracy_score(y_train, y_train_grid1))\n",
    "print(\"Train Set F1-Score:\", f1_score(y_train, y_train_grid1, average='macro'))\n",
    "\n",
    "print()\n",
    "print(\"Test Set Accuracy:\", accuracy_score(y_val, y_val_grid1))\n",
    "print(\"Test Set F1-Score:\", f1_score(y_val, y_val_grid1, average='macro'))"
   ]
  },
  {
   "cell_type": "code",
   "execution_count": 69,
   "metadata": {
    "ExecuteTime": {
     "end_time": "2021-10-27T08:16:18.578989Z",
     "start_time": "2021-10-27T06:57:19.394620Z"
    }
   },
   "outputs": [
    {
     "name": "stdout",
     "output_type": "stream",
     "text": [
      "Fitting 3 folds for each of 72 candidates, totalling 216 fits\n"
     ]
    },
    {
     "name": "stderr",
     "output_type": "stream",
     "text": [
      "[Parallel(n_jobs=2)]: Using backend LokyBackend with 2 concurrent workers.\n",
      "[Parallel(n_jobs=2)]: Done  37 tasks      | elapsed: 13.4min\n",
      "[Parallel(n_jobs=2)]: Done 158 tasks      | elapsed: 56.6min\n",
      "[Parallel(n_jobs=2)]: Done 216 out of 216 | elapsed: 77.3min finished\n"
     ]
    },
    {
     "name": "stdout",
     "output_type": "stream",
     "text": [
      "{'class_weight': 'balanced', 'criterion': 'gini', 'max_depth': 25, 'min_samples_leaf': 1, 'min_samples_split': 6, 'n_estimators': 350}\n",
      "Train Set Accuracy: 0.9977020111476906\n",
      "Train Set F1-Score: 0.9953258634807658\n",
      "\n",
      "Test Set Accuracy: 0.9644550921625189\n",
      "Test Set F1-Score: 0.9355526895353576\n"
     ]
    }
   ],
   "source": [
    "etc = ExtraTreesClassifier(random_state=42)\n",
    "\n",
    "#min_weight_fraction_leaf=0.0,\n",
    "#min_impurity_decrease=0.0,\n",
    "#min_impurity_split=None,\n",
    "#ccp_alpha=0.0,\n",
    "#max_samples=None --> bunu da dene\n",
    "\n",
    "params2 = {\n",
    "    \"n_estimators\": [200, 250, 300, 350],\n",
    "    \"criterion\": ['gini'],\n",
    "    \"max_depth\": [20, 25, 30],\n",
    "    \"min_samples_split\": [2, 4, 6],\n",
    "    \"min_samples_leaf\": [1, 3,],   \n",
    "    \"class_weight\":[\"balanced\"],\n",
    "}\n",
    "\n",
    "f1_scorer = make_scorer(f1_score, average='macro')\n",
    "\n",
    "grid2 = GridSearchCV(etc, param_grid=params2, cv=3, n_jobs=2, scoring=f1_scorer, verbose=2)\n",
    "grid2.fit(trainDataVecs, y_train)\n",
    "\n",
    "print(grid2.best_params_)\n",
    "\n",
    "y_train_grid2 = grid2.predict(trainDataVecs)\n",
    "y_val_grid2 = grid2.predict(valDataVecs)\n",
    "\n",
    "print(\"Train Set Accuracy:\", accuracy_score(y_train, y_train_grid2))\n",
    "print(\"Train Set F1-Score:\", f1_score(y_train, y_train_grid2, average='macro'))\n",
    "\n",
    "print()\n",
    "print(\"Test Set Accuracy:\", accuracy_score(y_val, y_val_grid2))\n",
    "print(\"Test Set F1-Score:\", f1_score(y_val, y_val_grid2, average='macro'))"
   ]
  },
  {
   "cell_type": "code",
   "execution_count": 30,
   "metadata": {
    "ExecuteTime": {
     "end_time": "2021-11-05T13:12:45.370371Z",
     "start_time": "2021-11-05T13:10:54.096628Z"
    }
   },
   "outputs": [
    {
     "name": "stdout",
     "output_type": "stream",
     "text": [
      "Train Set Accuracy: 0.9974086508686724\n",
      "Train Set F1-Score: 0.995002305036637\n",
      "\n",
      "Test Set Accuracy: 0.9651395883244511\n",
      "Test Set F1-Score: 0.9369472219718431\n"
     ]
    }
   ],
   "source": [
    "etc2 = ExtraTreesClassifier(random_state=42,class_weight = \"balanced\", criterion = 'gini', max_depth = 25, \n",
    "                            min_samples_leaf= 2, min_samples_split = 4, n_estimators=350)\n",
    "\n",
    "etc2.fit(trainDataVecs, y_train)\n",
    "\n",
    "\n",
    "y_train_etc2 = etc2.predict(trainDataVecs)\n",
    "y_val_etc2 = etc2.predict(valDataVecs)\n",
    "\n",
    "print(\"Train Set Accuracy:\", accuracy_score(y_train, y_train_etc2))\n",
    "print(\"Train Set F1-Score:\", f1_score(y_train, y_train_etc2, average='macro'))\n",
    "\n",
    "print()\n",
    "print(\"Test Set Accuracy:\", accuracy_score(y_val, y_val_etc2))\n",
    "print(\"Test Set F1-Score:\", f1_score(y_val, y_val_etc2, average='macro'))"
   ]
  },
  {
   "cell_type": "markdown",
   "metadata": {},
   "source": [
    "Try another algorithm KNN to see if the distance between embedding vectors can give meaningful output "
   ]
  },
  {
   "cell_type": "code",
   "execution_count": 12,
   "metadata": {
    "ExecuteTime": {
     "end_time": "2021-11-05T12:10:15.341865Z",
     "start_time": "2021-11-05T12:09:13.394212Z"
    }
   },
   "outputs": [],
   "source": [
    "#Import knearest neighbors Classifier model\n",
    "from sklearn.neighbors import KNeighborsClassifier\n",
    "\n",
    "#Create KNN Classifier\n",
    "knn = KNeighborsClassifier(n_neighbors=10)\n",
    "\n",
    "#Train the model using the training sets\n",
    "knn.fit(trainDataVecs, y_train)\n",
    "\n",
    "#Predict the response for test dataset\n",
    "train_knn = knn.predict(trainDataVecs)\n",
    "val_knn = knn.predict(valDataVecs)"
   ]
  },
  {
   "cell_type": "code",
   "execution_count": 14,
   "metadata": {
    "ExecuteTime": {
     "end_time": "2021-11-05T12:15:33.666172Z",
     "start_time": "2021-11-05T12:13:34.427936Z"
    }
   },
   "outputs": [],
   "source": [
    "#Predict the response for test dataset\n",
    "train_knn = knn.predict(trainDataVecs)\n",
    "val_knn = knn.predict(valDataVecs)"
   ]
  },
  {
   "cell_type": "code",
   "execution_count": 15,
   "metadata": {
    "ExecuteTime": {
     "end_time": "2021-11-05T12:15:46.261167Z",
     "start_time": "2021-11-05T12:15:45.270168Z"
    }
   },
   "outputs": [
    {
     "name": "stdout",
     "output_type": "stream",
     "text": [
      "Train Set Accuracy: 0.9539750317806969\n",
      "Train Set F1-Score: 0.9213315390495824\n",
      "\n",
      "Test Set Accuracy: 0.9430890333936341\n",
      "Test Set F1-Score: 0.8983764684689628\n"
     ]
    }
   ],
   "source": [
    "print(\"Train Set Accuracy:\", accuracy_score(y_train, train_knn))\n",
    "print(\"Train Set F1-Score:\", f1_score(y_train, train_knn, average='macro'))\n",
    "\n",
    "print()\n",
    "print(\"Test Set Accuracy:\", accuracy_score(y_val, val_knn))\n",
    "print(\"Test Set F1-Score:\", f1_score(y_val, val_knn, average='macro'))"
   ]
  },
  {
   "cell_type": "markdown",
   "metadata": {},
   "source": [
    "Since the KNN outputs are promising, we tried to fine tune the parameters to achieve a better score"
   ]
  },
  {
   "cell_type": "code",
   "execution_count": 23,
   "metadata": {
    "ExecuteTime": {
     "end_time": "2021-11-05T12:48:51.763897Z",
     "start_time": "2021-11-05T12:40:46.151798Z"
    }
   },
   "outputs": [
    {
     "name": "stdout",
     "output_type": "stream",
     "text": [
      "Fitting 3 folds for each of 24 candidates, totalling 72 fits\n"
     ]
    },
    {
     "name": "stderr",
     "output_type": "stream",
     "text": [
      "[Parallel(n_jobs=-1)]: Using backend LokyBackend with 8 concurrent workers.\n",
      "[Parallel(n_jobs=-1)]: Done  34 tasks      | elapsed:  3.2min\n",
      "[Parallel(n_jobs=-1)]: Done  72 out of  72 | elapsed:  7.9min finished\n"
     ]
    },
    {
     "name": "stdout",
     "output_type": "stream",
     "text": [
      "{'n_neighbors': 1, 'p': 2, 'weights': 'uniform'}\n",
      "Train Set Accuracy: 0.9974901398350663\n",
      "Train Set F1-Score: 0.994982749493397\n",
      "\n",
      "Test Set Accuracy: 0.960494792939911\n",
      "Test Set F1-Score: 0.9278075778798393\n"
     ]
    }
   ],
   "source": [
    "params_knn = [{'n_neighbors': np.arange(1, 30, 5), \n",
    "               'weights'    : ['uniform', 'distance'], \n",
    "               'p'          : [1, 2], # 1=Manhattan, 2=Euclidean\n",
    "           } \n",
    "         ] \n",
    "\n",
    "knn = KNeighborsClassifier(metric='minkowski', n_jobs=-1, p=2)\n",
    "\n",
    "\n",
    "f1_scorer = make_scorer(f1_score, average='macro')\n",
    "\n",
    "grid_knn = GridSearchCV(knn, param_grid=params_knn, cv=3, n_jobs=-1, scoring=f1_scorer, verbose=1)\n",
    "grid_knn.fit(trainDataVecs, y_train)\n",
    "\n",
    "print(grid_knn.best_params_)\n",
    "\n",
    "y_train_grid_knn = grid_knn.predict(trainDataVecs)\n",
    "y_val_grid_knn = grid_knn.predict(valDataVecs)\n",
    "\n",
    "print(\"Train Set Accuracy:\", accuracy_score(y_train, y_train_grid_knn))\n",
    "print(\"Train Set F1-Score:\", f1_score(y_train, y_train_grid_knn, average='macro'))\n",
    "\n",
    "print()\n",
    "print(\"Test Set Accuracy:\", accuracy_score(y_val, y_val_grid_knn))\n",
    "print(\"Test Set F1-Score:\", f1_score(y_val, y_val_grid_knn, average='macro'))"
   ]
  },
  {
   "cell_type": "markdown",
   "metadata": {},
   "source": [
    "**Voting Classifier**\n",
    "\n",
    "We now tried to combine the algorithms we tried and achieve a higher score "
   ]
  },
  {
   "cell_type": "code",
   "execution_count": 31,
   "metadata": {
    "ExecuteTime": {
     "end_time": "2021-11-05T13:16:32.065639Z",
     "start_time": "2021-11-05T13:13:38.684428Z"
    }
   },
   "outputs": [
    {
     "name": "stdout",
     "output_type": "stream",
     "text": [
      "Train Set Accuracy: 0.9978323934939209\n",
      "Train Set F1-Score: 0.9954221269729705\n",
      "\n",
      "Test Set Accuracy: 0.9652862660734367\n",
      "Test Set F1-Score: 0.9375347415505414\n"
     ]
    }
   ],
   "source": [
    "from sklearn.ensemble import VotingClassifier, StackingClassifier\n",
    "\n",
    "rfe = RandomForestClassifier(n_jobs=-1, random_state=42)\n",
    "\n",
    "voting = VotingClassifier(estimators=[('knn', grid_knn.best_estimator_), ('etc', etc2), ('rfe', rfe)], voting='hard')\n",
    "\n",
    "voting.fit(trainDataVecs, y_train)\n",
    "\n",
    "train_voting = voting.predict(trainDataVecs)\n",
    "val_voting = voting.predict(valDataVecs)\n",
    "\n",
    "print(\"Train Set Accuracy:\", accuracy_score(y_train, train_voting))\n",
    "print(\"Train Set F1-Score:\", f1_score(y_train, train_voting, average='macro'))\n",
    "\n",
    "print()\n",
    "print(\"Test Set Accuracy:\", accuracy_score(y_val, val_voting))\n",
    "print(\"Test Set F1-Score:\", f1_score(y_val, val_voting, average='macro'))"
   ]
  },
  {
   "cell_type": "code",
   "execution_count": 32,
   "metadata": {
    "ExecuteTime": {
     "end_time": "2021-11-05T13:19:56.030186Z",
     "start_time": "2021-11-05T13:17:09.023956Z"
    }
   },
   "outputs": [
    {
     "name": "stdout",
     "output_type": "stream",
     "text": [
      "Train Set Accuracy: 0.9976205221812966\n",
      "Train Set F1-Score: 0.9950581171534295\n",
      "\n",
      "Test Set Accuracy: 0.9614237520168191\n",
      "Test Set F1-Score: 0.9288926972329057\n"
     ]
    }
   ],
   "source": [
    "rfe = RandomForestClassifier(n_jobs=-1, random_state=42)\n",
    "\n",
    "voting2 = VotingClassifier(estimators=[('knn', grid_knn.best_estimator_), ('etc', etc2), ('rfe', rfe)], voting='soft')\n",
    "\n",
    "voting2.fit(trainDataVecs, y_train)\n",
    "\n",
    "train_voting = voting2.predict(trainDataVecs)\n",
    "val_voting = voting2.predict(valDataVecs)\n",
    "\n",
    "print(\"Train Set Accuracy:\", accuracy_score(y_train, train_voting))\n",
    "print(\"Train Set F1-Score:\", f1_score(y_train, train_voting, average='macro'))\n",
    "\n",
    "print()\n",
    "print(\"Test Set Accuracy:\", accuracy_score(y_val, val_voting))\n",
    "print(\"Test Set F1-Score:\", f1_score(y_val, val_voting, average='macro'))"
   ]
  },
  {
   "cell_type": "markdown",
   "metadata": {},
   "source": [
    "**Stacking Classifier**"
   ]
  },
  {
   "cell_type": "code",
   "execution_count": 34,
   "metadata": {
    "ExecuteTime": {
     "end_time": "2021-11-05T13:34:23.714951Z",
     "start_time": "2021-11-05T13:22:05.409790Z"
    }
   },
   "outputs": [
    {
     "name": "stdout",
     "output_type": "stream",
     "text": [
      "Train Set Accuracy: 0.9976531177678543\n",
      "Train Set F1-Score: 0.9952792139674769\n",
      "\n",
      "Test Set Accuracy: 0.9654818364054173\n",
      "Test Set F1-Score: 0.9372880580288565\n"
     ]
    }
   ],
   "source": [
    "from sklearn.linear_model import LogisticRegression\n",
    "\n",
    "rfe = RandomForestClassifier(n_jobs=-1, random_state=42)\n",
    "\n",
    "stacking = StackingClassifier(estimators=[('knn', grid_knn.best_estimator_), ('etc', etc2), ('rfe', rfe)], final_estimator=LogisticRegression(class_weight='balanced'))\n",
    "\n",
    "stacking.fit(trainDataVecs, y_train)\n",
    "\n",
    "train_stack = stacking.predict(trainDataVecs)\n",
    "val_stack = stacking.predict(valDataVecs)\n",
    "\n",
    "print(\"Train Set Accuracy:\", accuracy_score(y_train, train_stack))\n",
    "print(\"Train Set F1-Score:\", f1_score(y_train, train_stack, average='macro'))\n",
    "\n",
    "print()\n",
    "print(\"Test Set Accuracy:\", accuracy_score(y_val, val_stack))\n",
    "print(\"Test Set F1-Score:\", f1_score(y_val, val_stack, average='macro'))"
   ]
  },
  {
   "cell_type": "markdown",
   "metadata": {},
   "source": [
    "**TF-IDF**\n",
    "\n",
    "TF-IDF vectors did not give a satisfactory results"
   ]
  },
  {
   "cell_type": "code",
   "execution_count": 139,
   "metadata": {
    "ExecuteTime": {
     "end_time": "2021-10-27T12:16:45.902895Z",
     "start_time": "2021-10-27T12:15:38.040933Z"
    }
   },
   "outputs": [],
   "source": [
    "pipe = pip.Pipeline([\n",
    "        (\"vect\", txt.TfidfVectorizer(tokenizer=TurkishTokenizer, ngram_range=(1, 3), \n",
    "                                     smooth_idf=True, max_df=0.8, min_df= 0.0001)),\n",
    "        (\"todense\", FunctionTransformer(sparsetoDense))\n",
    "])\n",
    "\n",
    "# Transform the X_train, X_trest\n",
    "\n",
    "X_train_tfidf = pipe.fit_transform(df_train[df_train.index.isin(X_train.index)][\"cleaned_title\"])\n",
    "X_val_tfidf = pipe.transform(df_train[df_train.index.isin(X_val.index)][\"cleaned_title\"])"
   ]
  },
  {
   "cell_type": "code",
   "execution_count": 140,
   "metadata": {
    "ExecuteTime": {
     "end_time": "2021-10-27T12:16:50.934928Z",
     "start_time": "2021-10-27T12:16:50.594998Z"
    }
   },
   "outputs": [
    {
     "data": {
      "text/plain": [
       "17794"
      ]
     },
     "execution_count": 140,
     "metadata": {},
     "output_type": "execute_result"
    }
   ],
   "source": [
    "#Print the tokens\n",
    "\n",
    "len(pipe[0].get_feature_names())"
   ]
  },
  {
   "cell_type": "code",
   "execution_count": 142,
   "metadata": {
    "ExecuteTime": {
     "end_time": "2021-10-27T12:28:21.358149Z",
     "start_time": "2021-10-27T12:20:34.354781Z"
    }
   },
   "outputs": [
    {
     "name": "stderr",
     "output_type": "stream",
     "text": [
      "[Parallel(n_jobs=3)]: Using backend ThreadingBackend with 3 concurrent workers.\n",
      "[Parallel(n_jobs=3)]: Done  44 tasks      | elapsed:  2.8min\n",
      "[Parallel(n_jobs=3)]: Done 100 out of 100 | elapsed:  6.1min finished\n",
      "[Parallel(n_jobs=3)]: Using backend ThreadingBackend with 3 concurrent workers.\n",
      "[Parallel(n_jobs=3)]: Done  44 tasks      | elapsed:    3.2s\n",
      "[Parallel(n_jobs=3)]: Done 100 out of 100 | elapsed:    6.2s finished\n",
      "[Parallel(n_jobs=3)]: Using backend ThreadingBackend with 3 concurrent workers.\n",
      "[Parallel(n_jobs=3)]: Done  44 tasks      | elapsed:    0.7s\n",
      "[Parallel(n_jobs=3)]: Done 100 out of 100 | elapsed:    1.7s finished\n"
     ]
    },
    {
     "name": "stdout",
     "output_type": "stream",
     "text": [
      "Train Set Confusion Matrix:\n",
      "[[0 0 0 ... 0 0 0]\n",
      " [0 0 0 ... 0 0 0]\n",
      " [0 0 0 ... 0 0 0]\n",
      " ...\n",
      " [0 0 0 ... 0 0 0]\n",
      " [0 0 0 ... 0 0 0]\n",
      " [0 0 0 ... 0 0 0]]\n",
      "\n",
      "Train Set Accuracy: 0.16144594021969425\n",
      "\n",
      "Val Set Confusion Matrix:\n",
      "[[0 0 0 ... 0 0 0]\n",
      " [0 0 0 ... 0 0 0]\n",
      " [0 0 0 ... 0 0 0]\n",
      " ...\n",
      " [0 0 0 ... 0 0 0]\n",
      " [0 0 0 ... 0 0 0]\n",
      " [0 0 0 ... 0 0 0]]\n",
      "\n",
      "Val Set Accuracy: 0.1614433090500171\n"
     ]
    }
   ],
   "source": [
    "#Base Model\n",
    "\n",
    "model = RandomForestClassifier(random_state=42, max_depth=50, n_jobs=3, verbose=1)\n",
    "model.fit(X_train_tfidf, y_train)\n",
    "y_train_hat = model.predict(X_train_tfidf)\n",
    "y_val_hat = model.predict(X_val_tfidf)\n",
    "\n",
    "\n",
    "\n",
    "print(\"Train Set Confusion Matrix:\", confusion_matrix(y_train, y_train_hat), sep=\"\\n\")\n",
    "print()\n",
    "print(\"Train Set Accuracy:\", accuracy_score(y_train, y_train_hat))\n",
    "print()\n",
    "print(\"Val Set Confusion Matrix:\", confusion_matrix(y_val, y_val_hat), sep=\"\\n\")\n",
    "print()\n",
    "print(\"Val Set Accuracy:\", accuracy_score(y_val, y_val_hat))"
   ]
  },
  {
   "cell_type": "markdown",
   "metadata": {},
   "source": [
    "**Summary**\n",
    "\n",
    "To sum up, so far, for the tokenization of the texts we preferred Zemberek since the language of the text is Turkish.\n",
    "\n",
    "We tried to build a machine learning model by using Word2Vec embeddings as input. We optimized the Word2Vec algorithm by using Naive Bayes as a simple and strong algorithm in text mining.\n",
    "\n",
    "By choosing the best parameters from the various alternatives, we determined the parameter set for our Word2Vec algorithm. Then, we started to compare algorithms with each other and find the best performing one to further optimization.\n",
    "\n",
    "We also tried a TF-IDF vectorization, however, it did not give a promising output.\n"
   ]
  }
 ],
 "metadata": {
  "kernelspec": {
   "display_name": "Python 3",
   "language": "python",
   "name": "python3"
  },
  "language_info": {
   "codemirror_mode": {
    "name": "ipython",
    "version": 3
   },
   "file_extension": ".py",
   "mimetype": "text/x-python",
   "name": "python",
   "nbconvert_exporter": "python",
   "pygments_lexer": "ipython3",
   "version": "3.7.6"
  },
  "toc": {
   "base_numbering": 1,
   "nav_menu": {},
   "number_sections": true,
   "sideBar": true,
   "skip_h1_title": false,
   "title_cell": "Table of Contents",
   "title_sidebar": "Contents",
   "toc_cell": false,
   "toc_position": {},
   "toc_section_display": true,
   "toc_window_display": false
  },
  "varInspector": {
   "cols": {
    "lenName": 16,
    "lenType": 16,
    "lenVar": 40
   },
   "kernels_config": {
    "python": {
     "delete_cmd_postfix": "",
     "delete_cmd_prefix": "del ",
     "library": "var_list.py",
     "varRefreshCmd": "print(var_dic_list())"
    },
    "r": {
     "delete_cmd_postfix": ") ",
     "delete_cmd_prefix": "rm(",
     "library": "var_list.r",
     "varRefreshCmd": "cat(var_dic_list()) "
    }
   },
   "position": {
    "height": "519.194px",
    "left": "655.667px",
    "right": "20px",
    "top": "128px",
    "width": "800px"
   },
   "types_to_exclude": [
    "module",
    "function",
    "builtin_function_or_method",
    "instance",
    "_Feature"
   ],
   "window_display": false
  }
 },
 "nbformat": 4,
 "nbformat_minor": 2
}
